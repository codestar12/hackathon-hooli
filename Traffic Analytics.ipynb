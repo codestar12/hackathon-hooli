{
 "cells": [
  {
   "cell_type": "markdown",
   "metadata": {},
   "source": [
    "# We wanted to do something to reduce traffic in Austin with technology\n",
    "\n",
    "--------------------------------------------------------------------------\n",
    "\n",
    "# Can we reduce traffic congestion using existing infrastruction?\n",
    "\n",
    "# Are our roads being used efficiently?\n",
    "\n",
    "# How does traffic happen?\n",
    "\n",
    "--------------------------------------------------------------------------"
   ]
  },
  {
   "cell_type": "markdown",
   "metadata": {},
   "source": [
    "# Hypothsis: You can prevent traffic by controlling car density\n",
    "\n",
    "----"
   ]
  },
  {
   "cell_type": "markdown",
   "metadata": {},
   "source": [
    "## Traffic is well studied and has similar characteristics to fluid dynamics problems\n",
    "\n",
    "### It displays several prominant characteristics\n",
    "<img src=\"phase_transistions.png\">\n",
    "\n",
    "--------------------------------------------------------------------------"
   ]
  },
  {
   "cell_type": "markdown",
   "metadata": {},
   "source": [
    "# Roads can be represented as weighted multigraphs\n",
    "\n",
    "<img src=\"map.jpg\">\n",
    "\n",
    "\n",
    "# ------>\n",
    "\n",
    "<img src=\"weighted-multigraph.png\">\n",
    "\n",
    "# Iteratively computing the minimum spanning tree with regard to current road capacity can be used to route populations\n",
    "\n",
    "<img src=\"600px-Minimum_spanning_tree.svg.png\">\n",
    "\n",
    "# Machine learning techniques (Deep Learning!) can be used to learn the best weightings based on real time and historical data from many sensors"
   ]
  },
  {
   "cell_type": "markdown",
   "metadata": {},
   "source": [
    "# What does traffic in Austin actually look like?\n",
    "\n",
    "<img src=\"i35_heatmap.png\">\n",
    "\n",
    "----"
   ]
  },
  {
   "cell_type": "markdown",
   "metadata": {},
   "source": [
    "# Expected Result:\n",
    "## We should see clear evidence of these phase transistions in Austin traffic\n",
    "\n",
    "----"
   ]
  },
  {
   "cell_type": "markdown",
   "metadata": {},
   "source": [
    "# We used data available from the Austin open data portal (data.austintexas.gov)\n",
    "\n",
    "<img src=\"Austin-Data-Portal.png\">\n",
    "\n",
    "## The data set we analyized contains millions of records from bluetooth readers scattered across the city's roadways. In all, the data set contains about 96 million events.\n",
    "\n",
    "----"
   ]
  },
  {
   "cell_type": "code",
   "execution_count": 69,
   "metadata": {},
   "outputs": [
    {
     "data": {
      "text/html": [
       "\n",
       "    <div class=\"bk-root\">\n",
       "        <a href=\"http://bokeh.pydata.org\" target=\"_blank\" class=\"bk-logo bk-logo-small bk-logo-notebook\"></a>\n",
       "        <span id=\"78ad11a9-56cc-475c-a03d-b77c6d73f7c3\">Loading BokehJS ...</span>\n",
       "    </div>"
      ]
     },
     "metadata": {},
     "output_type": "display_data"
    },
    {
     "data": {
      "application/javascript": [
       "\n",
       "(function(global) {\n",
       "  function now() {\n",
       "    return new Date();\n",
       "  }\n",
       "\n",
       "  var force = true;\n",
       "\n",
       "  if (typeof (window._bokeh_onload_callbacks) === \"undefined\" || force === true) {\n",
       "    window._bokeh_onload_callbacks = [];\n",
       "    window._bokeh_is_loading = undefined;\n",
       "  }\n",
       "\n",
       "\n",
       "  \n",
       "  if (typeof (window._bokeh_timeout) === \"undefined\" || force === true) {\n",
       "    window._bokeh_timeout = Date.now() + 5000;\n",
       "    window._bokeh_failed_load = false;\n",
       "  }\n",
       "\n",
       "  var NB_LOAD_WARNING = {'data': {'text/html':\n",
       "     \"<div style='background-color: #fdd'>\\n\"+\n",
       "     \"<p>\\n\"+\n",
       "     \"BokehJS does not appear to have successfully loaded. If loading BokehJS from CDN, this \\n\"+\n",
       "     \"may be due to a slow or bad network connection. Possible fixes:\\n\"+\n",
       "     \"</p>\\n\"+\n",
       "     \"<ul>\\n\"+\n",
       "     \"<li>re-rerun `output_notebook()` to attempt to load from CDN again, or</li>\\n\"+\n",
       "     \"<li>use INLINE resources instead, as so:</li>\\n\"+\n",
       "     \"</ul>\\n\"+\n",
       "     \"<code>\\n\"+\n",
       "     \"from bokeh.resources import INLINE\\n\"+\n",
       "     \"output_notebook(resources=INLINE)\\n\"+\n",
       "     \"</code>\\n\"+\n",
       "     \"</div>\"}};\n",
       "\n",
       "  function display_loaded() {\n",
       "    if (window.Bokeh !== undefined) {\n",
       "      var el = document.getElementById(\"78ad11a9-56cc-475c-a03d-b77c6d73f7c3\");\n",
       "      el.textContent = \"BokehJS \" + Bokeh.version + \" successfully loaded.\";\n",
       "    } else if (Date.now() < window._bokeh_timeout) {\n",
       "      setTimeout(display_loaded, 100)\n",
       "    }\n",
       "  }\n",
       "\n",
       "  function run_callbacks() {\n",
       "    window._bokeh_onload_callbacks.forEach(function(callback) { callback() });\n",
       "    delete window._bokeh_onload_callbacks\n",
       "    console.info(\"Bokeh: all callbacks have finished\");\n",
       "  }\n",
       "\n",
       "  function load_libs(js_urls, callback) {\n",
       "    window._bokeh_onload_callbacks.push(callback);\n",
       "    if (window._bokeh_is_loading > 0) {\n",
       "      console.log(\"Bokeh: BokehJS is being loaded, scheduling callback at\", now());\n",
       "      return null;\n",
       "    }\n",
       "    if (js_urls == null || js_urls.length === 0) {\n",
       "      run_callbacks();\n",
       "      return null;\n",
       "    }\n",
       "    console.log(\"Bokeh: BokehJS not loaded, scheduling load and callback at\", now());\n",
       "    window._bokeh_is_loading = js_urls.length;\n",
       "    for (var i = 0; i < js_urls.length; i++) {\n",
       "      var url = js_urls[i];\n",
       "      var s = document.createElement('script');\n",
       "      s.src = url;\n",
       "      s.async = false;\n",
       "      s.onreadystatechange = s.onload = function() {\n",
       "        window._bokeh_is_loading--;\n",
       "        if (window._bokeh_is_loading === 0) {\n",
       "          console.log(\"Bokeh: all BokehJS libraries loaded\");\n",
       "          run_callbacks()\n",
       "        }\n",
       "      };\n",
       "      s.onerror = function() {\n",
       "        console.warn(\"failed to load library \" + url);\n",
       "      };\n",
       "      console.log(\"Bokeh: injecting script tag for BokehJS library: \", url);\n",
       "      document.getElementsByTagName(\"head\")[0].appendChild(s);\n",
       "    }\n",
       "  };var element = document.getElementById(\"78ad11a9-56cc-475c-a03d-b77c6d73f7c3\");\n",
       "  if (element == null) {\n",
       "    console.log(\"Bokeh: ERROR: autoload.js configured with elementid '78ad11a9-56cc-475c-a03d-b77c6d73f7c3' but no matching script tag was found. \")\n",
       "    return false;\n",
       "  }\n",
       "\n",
       "  var js_urls = [\"https://cdn.pydata.org/bokeh/release/bokeh-0.12.5.min.js\", \"https://cdn.pydata.org/bokeh/release/bokeh-widgets-0.12.5.min.js\"];\n",
       "\n",
       "  var inline_js = [\n",
       "    function(Bokeh) {\n",
       "      Bokeh.set_log_level(\"info\");\n",
       "    },\n",
       "    \n",
       "    function(Bokeh) {\n",
       "      \n",
       "    },\n",
       "    \n",
       "    function(Bokeh) {\n",
       "      \n",
       "      document.getElementById(\"78ad11a9-56cc-475c-a03d-b77c6d73f7c3\").textContent = \"BokehJS is loading...\";\n",
       "    },\n",
       "    function(Bokeh) {\n",
       "      console.log(\"Bokeh: injecting CSS: https://cdn.pydata.org/bokeh/release/bokeh-0.12.5.min.css\");\n",
       "      Bokeh.embed.inject_css(\"https://cdn.pydata.org/bokeh/release/bokeh-0.12.5.min.css\");\n",
       "      console.log(\"Bokeh: injecting CSS: https://cdn.pydata.org/bokeh/release/bokeh-widgets-0.12.5.min.css\");\n",
       "      Bokeh.embed.inject_css(\"https://cdn.pydata.org/bokeh/release/bokeh-widgets-0.12.5.min.css\");\n",
       "    }\n",
       "  ];\n",
       "\n",
       "  function run_inline_js() {\n",
       "    \n",
       "    if ((window.Bokeh !== undefined) || (force === true)) {\n",
       "      for (var i = 0; i < inline_js.length; i++) {\n",
       "        inline_js[i](window.Bokeh);\n",
       "      }if (force === true) {\n",
       "        display_loaded();\n",
       "      }} else if (Date.now() < window._bokeh_timeout) {\n",
       "      setTimeout(run_inline_js, 100);\n",
       "    } else if (!window._bokeh_failed_load) {\n",
       "      console.log(\"Bokeh: BokehJS failed to load within specified timeout.\");\n",
       "      window._bokeh_failed_load = true;\n",
       "    } else if (force !== true) {\n",
       "      var cell = $(document.getElementById(\"78ad11a9-56cc-475c-a03d-b77c6d73f7c3\")).parents('.cell').data().cell;\n",
       "      cell.output_area.append_execute_result(NB_LOAD_WARNING)\n",
       "    }\n",
       "\n",
       "  }\n",
       "\n",
       "  if (window._bokeh_is_loading === 0) {\n",
       "    console.log(\"Bokeh: BokehJS loaded, going straight to plotting\");\n",
       "    run_inline_js();\n",
       "  } else {\n",
       "    load_libs(js_urls, function() {\n",
       "      console.log(\"Bokeh: BokehJS plotting callback run at\", now());\n",
       "      run_inline_js();\n",
       "    });\n",
       "  }\n",
       "}(this));"
      ]
     },
     "metadata": {},
     "output_type": "display_data"
    }
   ],
   "source": [
    "%matplotlib inline\n",
    "import pandas as pd\n",
    "import numpy as np\n",
    "import matplotlib.pyplot as plt\n",
    "import matplotlib\n",
    "matplotlib.style.use('ggplot')\n",
    "from datetime import datetime\n",
    "from datetime import timedelta\n",
    "import requests\n",
    "from bokeh.charts import Line, Scatter, output_file, show\n",
    "from bokeh.plotting import Figure as p\n",
    "from bokeh.io import output_notebook\n",
    "from pandas import Timestamp\n",
    "output_notebook()"
   ]
  },
  {
   "cell_type": "code",
   "execution_count": 2,
   "metadata": {
    "collapsed": true
   },
   "outputs": [],
   "source": [
    "#Load the data from the downloaded csv. Could also use the API.\n",
    "df = pd.DataFrame.from_csv('Bluetooth_Travel_Sensors_-_Individual_Address_Files__IAF_.csv')"
   ]
  },
  {
   "cell_type": "code",
   "execution_count": 3,
   "metadata": {
    "collapsed": true
   },
   "outputs": [],
   "source": [
    "#Isolate the reads from either side of the I35 bridge over the river\n",
    "riverside_df = df[df.reader_identifier.str.contains(r'ih_35_riverside')]\n",
    "cesar_chavez_df = df[df.reader_identifier.str.contains(r'cesar_chavez_ih_35')]"
   ]
  },
  {
   "cell_type": "code",
   "execution_count": 4,
   "metadata": {
    "collapsed": true
   },
   "outputs": [],
   "source": [
    "#Merge the two subsets\n",
    "bridge = riverside_df.merge(cesar_chavez_df, how='inner', on='device_address')"
   ]
  },
  {
   "cell_type": "code",
   "execution_count": 5,
   "metadata": {
    "collapsed": true
   },
   "outputs": [],
   "source": [
    "#Convert the datetimes to something handier\n",
    "fmt = '%m/%d/%Y %I:%M:%S %p'\n",
    "bridge['host_read_time_x'] = pd.to_datetime(bridge['host_read_time_x'], format = fmt)\n",
    "bridge['host_read_time_y'] = pd.to_datetime(bridge['host_read_time_y'], format = fmt)\n",
    "bridge['field_device_read_time_x'] = pd.to_datetime(bridge['field_device_read_time_x'], format=fmt)\n",
    "bridge['field_device_read_time_y'] = pd.to_datetime(bridge['field_device_read_time_y'], format=fmt)"
   ]
  },
  {
   "cell_type": "code",
   "execution_count": 6,
   "metadata": {
    "collapsed": true
   },
   "outputs": [],
   "source": [
    "#The merge (an inner join of device ID) left a lot of noise (extra cartesian products).\n",
    "#We filter these extra records out by attempting to match the most likely start and end times.\n",
    "bridge_filtered = pd.DataFrame()\n",
    "devices = set(bridge['device_address'])\n",
    "for device in devices:\n",
    "    device_records = bridge[bridge['device_address'] == device]\n",
    "    read_times_x = set(device_records['host_read_time_x'])\n",
    "    for read_time in read_times_x:\n",
    "        time_x_records = device_records[device_records['host_read_time_x'] == read_time]\n",
    "        time_diffs = np.abs(time_x_records['host_read_time_x'] - time_x_records['host_read_time_y'])\n",
    "        bridge_filtered = bridge_filtered.append(bridge.iloc[time_diffs.argmin()])"
   ]
  },
  {
   "cell_type": "code",
   "execution_count": 7,
   "metadata": {
    "collapsed": true
   },
   "outputs": [],
   "source": [
    "bridge = bridge_filtered"
   ]
  },
  {
   "cell_type": "code",
   "execution_count": 8,
   "metadata": {
    "collapsed": true
   },
   "outputs": [],
   "source": [
    "#Segment the the events into northbound and southbound bridge traversals\n",
    "northbound = bridge[bridge['host_read_time_x'] < bridge['host_read_time_y']]\n",
    "southbound = bridge[bridge['host_read_time_y'] < bridge['host_read_time_x']]"
   ]
  },
  {
   "cell_type": "code",
   "execution_count": 9,
   "metadata": {
    "collapsed": true
   },
   "outputs": [],
   "source": [
    "#Find the actual time each traversal took\n",
    "time_north = northbound['host_read_time_y'] - northbound['host_read_time_x']\n",
    "time_south = southbound['host_read_time_x'] - southbound['host_read_time_y']\n",
    "northbound = northbound.assign(time_north=time_north)\n",
    "southbound = southbound.assign(time_south=time_south)"
   ]
  },
  {
   "cell_type": "code",
   "execution_count": 10,
   "metadata": {},
   "outputs": [
    {
     "data": {
      "text/plain": [
       "<matplotlib.axes._subplots.AxesSubplot at 0x7f4fbf659978>"
      ]
     },
     "execution_count": 10,
     "metadata": {},
     "output_type": "execute_result"
    },
    {
     "data": {
      "image/png": "[encoded data removed]",
      "text/plain": [
       "<matplotlib.figure.Figure at 0x7f4ff40d9278>"
      ]
     },
     "metadata": {},
     "output_type": "display_data"
    }
   ],
   "source": [
    "#Look to see how much noise is still left in the northbound data\n",
    "plt.figure(figsize=(20,10))\n",
    "northbound['time_north'].astype('timedelta64[s]').plot.hist(bins=1000)"
   ]
  },
  {
   "cell_type": "code",
   "execution_count": 11,
   "metadata": {},
   "outputs": [
    {
     "data": {
      "text/plain": [
       "<matplotlib.axes._subplots.AxesSubplot at 0x7f4fbf58be48>"
      ]
     },
     "execution_count": 11,
     "metadata": {},
     "output_type": "execute_result"
    },
    {
     "data": {
      "image/png": "[encoded data removed]",
      "text/plain": [
       "<matplotlib.figure.Figure at 0x7f4fbf5d8358>"
      ]
     },
     "metadata": {},
     "output_type": "display_data"
    }
   ],
   "source": [
    "#And do the same for the southbound data\n",
    "plt.figure(figsize=(20,10))\n",
    "southbound['time_south'].astype('timedelta64[s]').plot.hist(bins=1000)"
   ]
  },
  {
   "cell_type": "code",
   "execution_count": 12,
   "metadata": {},
   "outputs": [
    {
     "data": {
      "text/plain": [
       "<matplotlib.axes._subplots.AxesSubplot at 0x7f4fbe5b3a20>"
      ]
     },
     "execution_count": 12,
     "metadata": {},
     "output_type": "execute_result"
    },
    {
     "data": {
      "text/plain": [
       "<matplotlib.figure.Figure at 0x7f4fbef03cf8>"
      ]
     },
     "metadata": {},
     "output_type": "display_data"
    },
    {
     "data": {
      "image/png": "[encoded data removed]",
      "text/plain": [
       "<matplotlib.figure.Figure at 0x7f4fbe8d6a20>"
      ]
     },
     "metadata": {},
     "output_type": "display_data"
    }
   ],
   "source": [
    "#Look at at the traversal time vs the time of the day for northbound traffic\n",
    "plt.figure(figsize=(20,10))\n",
    "northbound = northbound.assign(time_north=northbound['time_north'].astype('timedelta64[s]'))\n",
    "northbound.plot(x='host_read_time_x', y='time_north')"
   ]
  },
  {
   "cell_type": "code",
   "execution_count": 13,
   "metadata": {
    "scrolled": true
   },
   "outputs": [
    {
     "data": {
      "text/plain": [
       "<matplotlib.axes._subplots.AxesSubplot at 0x7f4fbd4ea5f8>"
      ]
     },
     "execution_count": 13,
     "metadata": {},
     "output_type": "execute_result"
    },
    {
     "data": {
      "text/plain": [
       "<matplotlib.figure.Figure at 0x7f4fbfb81c50>"
      ]
     },
     "metadata": {},
     "output_type": "display_data"
    },
    {
     "data": {
      "image/png": "[encoded data removed]",
      "text/plain": [
       "<matplotlib.figure.Figure at 0x7f4fbef4fa20>"
      ]
     },
     "metadata": {},
     "output_type": "display_data"
    }
   ],
   "source": [
    "#Look at the traversal time vs the time of day for the southbound traffic\n",
    "plt.figure(figsize=(20,10))\n",
    "southbound = southbound.assign(time_south = southbound['time_south'].astype('timedelta64[s]'))\n",
    "southbound.plot(x='host_read_time_y', y='time_south')"
   ]
  },
  {
   "cell_type": "code",
   "execution_count": 67,
   "metadata": {
    "collapsed": true
   },
   "outputs": [],
   "source": [
    "#bucket the date range for a dataframe so that we can do histograms and averages\n",
    "def date_range(start, end, intv):\n",
    "    while start < end:\n",
    "        yield (start, start + intv)\n",
    "        start += intv\n",
    "    yield (start, start + intv)\n",
    "\n",
    "#plot density vs time\n",
    "def density_by_time(dataframe, start_column, end_column, delta):\n",
    "    dataframe = dataframe.sort_values(by=start_column)\n",
    "    x_list = dataframe[start_column].tolist()\n",
    "    date_buckets = []\n",
    "    for d in date_range(x_list[0], x_list[-1], delta):\n",
    "        date_buckets.append(d)\n",
    "        \n",
    "    counts = []\n",
    "    for bucket in date_buckets:\n",
    "        gtlb = dataframe[dataframe[start_column] >= bucket[0]]\n",
    "        gtlb = gtlb[gtlb[start_column] < bucket[1]]\n",
    "        ltub = gtlb[gtlb[end_column] > bucket[1]]\n",
    "        counts.append(len(ltub))\n",
    "        \n",
    "    plt.plot([b[0] for b in date_buckets], counts)\n",
    "\n",
    "#plot throughput (flow rate) vs time\n",
    "def throughput_by_time(dataframe, exit_column, delta):\n",
    "    #make sure the dataframe is sorted\n",
    "    dataframe = dataframe.sort_values(by=exit_column)\n",
    "    #turn the series into a list, easier to work with\n",
    "    x_list = dataframe[exit_column].tolist()\n",
    "    #create the buckets in even intervals during the time frame\n",
    "    date_buckets = []\n",
    "    for d in date_range(x_list[0], x_list[-1], delta):\n",
    "        date_buckets.append(d)\n",
    "        \n",
    "    #count the events we need to measure\n",
    "    counts = []\n",
    "    for bucket in date_buckets:\n",
    "        #get events after the start of the bucket\n",
    "        gtlb = dataframe[dataframe[exit_column] >= bucket[0]]\n",
    "        #get events before end of bucket\n",
    "        ltub = gtlb[gtlb[exit_column] < bucket[1]]\n",
    "        \n",
    "        counts.append(len(ltub))\n",
    "        \n",
    "    plt.plot([b[0] for b in date_buckets], counts)\n",
    "    \n",
    "def flow_by_density(dataframe, start_column, exit_column, delta, start_time=None, end_time=None):\n",
    "    #sort\n",
    "    dataframe = dataframe.sort_values(by=exit_column)\n",
    "    #listify the series\n",
    "    x_list = dataframe[exit_column].tolist()\n",
    "    #bucket the series\n",
    "    date_buckets = []\n",
    "    if (start_time and end_time):\n",
    "        for d in date_range(start_time, end_time, delta):\n",
    "            date_buckets.append(d)\n",
    "    else:\n",
    "        for d in date_range(x_list[0], x_list[-1], delta):\n",
    "            date_buckets.append(d)\n",
    "        \n",
    "    #get counts for throughput\n",
    "    throughput_counts = []\n",
    "    for bucket in date_buckets:\n",
    "        #get events after the start of the bucket\n",
    "        gtlb = dataframe[dataframe[exit_column] >= bucket[0]]\n",
    "        #get events before end of bucket\n",
    "        ltub = gtlb[gtlb[exit_column] < bucket[1]]\n",
    "        throughput_counts.append(len(ltub))\n",
    "        \n",
    "    #get counts for density\n",
    "    density_counts = []\n",
    "    for bucket in date_buckets:\n",
    "        gtlb = dataframe[dataframe[start_column] >= bucket[0]]\n",
    "        gtlb = gtlb[gtlb[start_column] < bucket[1]]\n",
    "        ltub = gtlb[gtlb[exit_column] > bucket[1]]\n",
    "        density_counts.append(len(ltub))\n",
    "        \n",
    "    fbd_points = [(throughput_counts[i], density_counts[i]) for i in range(len(date_buckets) - 1)]\n",
    "    print(*zip(*fbd_points))\n",
    "    plt.plot(*zip(*fbd_points))"
   ]
  },
  {
   "cell_type": "code",
   "execution_count": 23,
   "metadata": {},
   "outputs": [
    {
     "data": {
      "text/html": [
       "\n",
       "\n",
       "    <div class=\"bk-root\">\n",
       "        <div class=\"bk-plotdiv\" id=\"8394832f-b23e-490b-8264-1099f914a560\"></div>\n",
       "    </div>\n",
       "<script type=\"text/javascript\">\n",
       "  \n",
       "  (function(global) {\n",
       "    function now() {\n",
       "      return new Date();\n",
       "    }\n",
       "  \n",
       "    var force = false;\n",
       "  \n",
       "    if (typeof (window._bokeh_onload_callbacks) === \"undefined\" || force === true) {\n",
       "      window._bokeh_onload_callbacks = [];\n",
       "      window._bokeh_is_loading = undefined;\n",
       "    }\n",
       "  \n",
       "  \n",
       "    \n",
       "    if (typeof (window._bokeh_timeout) === \"undefined\" || force === true) {\n",
       "      window._bokeh_timeout = Date.now() + 0;\n",
       "      window._bokeh_failed_load = false;\n",
       "    }\n",
       "  \n",
       "    var NB_LOAD_WARNING = {'data': {'text/html':\n",
       "       \"<div style='background-color: #fdd'>\\n\"+\n",
       "       \"<p>\\n\"+\n",
       "       \"BokehJS does not appear to have successfully loaded. If loading BokehJS from CDN, this \\n\"+\n",
       "       \"may be due to a slow or bad network connection. Possible fixes:\\n\"+\n",
       "       \"</p>\\n\"+\n",
       "       \"<ul>\\n\"+\n",
       "       \"<li>re-rerun `output_notebook()` to attempt to load from CDN again, or</li>\\n\"+\n",
       "       \"<li>use INLINE resources instead, as so:</li>\\n\"+\n",
       "       \"</ul>\\n\"+\n",
       "       \"<code>\\n\"+\n",
       "       \"from bokeh.resources import INLINE\\n\"+\n",
       "       \"output_notebook(resources=INLINE)\\n\"+\n",
       "       \"</code>\\n\"+\n",
       "       \"</div>\"}};\n",
       "  \n",
       "    function display_loaded() {\n",
       "      if (window.Bokeh !== undefined) {\n",
       "        var el = document.getElementById(\"8394832f-b23e-490b-8264-1099f914a560\");\n",
       "        el.textContent = \"BokehJS \" + Bokeh.version + \" successfully loaded.\";\n",
       "      } else if (Date.now() < window._bokeh_timeout) {\n",
       "        setTimeout(display_loaded, 100)\n",
       "      }\n",
       "    }\n",
       "  \n",
       "    function run_callbacks() {\n",
       "      window._bokeh_onload_callbacks.forEach(function(callback) { callback() });\n",
       "      delete window._bokeh_onload_callbacks\n",
       "      console.info(\"Bokeh: all callbacks have finished\");\n",
       "    }\n",
       "  \n",
       "    function load_libs(js_urls, callback) {\n",
       "      window._bokeh_onload_callbacks.push(callback);\n",
       "      if (window._bokeh_is_loading > 0) {\n",
       "        console.log(\"Bokeh: BokehJS is being loaded, scheduling callback at\", now());\n",
       "        return null;\n",
       "      }\n",
       "      if (js_urls == null || js_urls.length === 0) {\n",
       "        run_callbacks();\n",
       "        return null;\n",
       "      }\n",
       "      console.log(\"Bokeh: BokehJS not loaded, scheduling load and callback at\", now());\n",
       "      window._bokeh_is_loading = js_urls.length;\n",
       "      for (var i = 0; i < js_urls.length; i++) {\n",
       "        var url = js_urls[i];\n",
       "        var s = document.createElement('script');\n",
       "        s.src = url;\n",
       "        s.async = false;\n",
       "        s.onreadystatechange = s.onload = function() {\n",
       "          window._bokeh_is_loading--;\n",
       "          if (window._bokeh_is_loading === 0) {\n",
       "            console.log(\"Bokeh: all BokehJS libraries loaded\");\n",
       "            run_callbacks()\n",
       "          }\n",
       "        };\n",
       "        s.onerror = function() {\n",
       "          console.warn(\"failed to load library \" + url);\n",
       "        };\n",
       "        console.log(\"Bokeh: injecting script tag for BokehJS library: \", url);\n",
       "        document.getElementsByTagName(\"head\")[0].appendChild(s);\n",
       "      }\n",
       "    };var element = document.getElementById(\"8394832f-b23e-490b-8264-1099f914a560\");\n",
       "    if (element == null) {\n",
       "      console.log(\"Bokeh: ERROR: autoload.js configured with elementid '8394832f-b23e-490b-8264-1099f914a560' but no matching script tag was found. \")\n",
       "      return false;\n",
       "    }\n",
       "  \n",
       "    var js_urls = [];\n",
       "  \n",
       "    var inline_js = [\n",
       "      function(Bokeh) {\n",
       "        (function() {\n",
       "          var fn = function() {\n",
       "            var docs_json = {\"053ef2be-c079-4da2-a618-d0a7587ea42f\":{\"roots\":{\"references\":[{\"attributes\":{},\"id\":\"53d85b8a-5dff-4360-bf2e-44267a8d159f\",\"type\":\"BasicTicker\"},{\"attributes\":{\"bottom_units\":\"screen\",\"fill_alpha\":{\"value\":0.5},\"fill_color\":{\"value\":\"lightgrey\"},\"left_units\":\"screen\",\"level\":\"overlay\",\"line_alpha\":{\"value\":1.0},\"line_color\":{\"value\":\"black\"},\"line_dash\":[4,4],\"line_width\":{\"value\":2},\"plot\":null,\"render_mode\":\"css\",\"right_units\":\"screen\",\"top_units\":\"screen\"},\"id\":\"a7d7b02d-1bd3-425c-a1b0-990b39bf55d7\",\"type\":\"BoxAnnotation\"},{\"attributes\":{\"overlay\":{\"id\":\"a7d7b02d-1bd3-425c-a1b0-990b39bf55d7\",\"type\":\"BoxAnnotation\"},\"plot\":{\"id\":\"e542bf7b-283c-4457-88a1-f49ec2c26534\",\"subtype\":\"Chart\",\"type\":\"Plot\"}},\"id\":\"344e0e28-9f7c-4341-9a95-b87357914723\",\"type\":\"BoxZoomTool\"},{\"attributes\":{\"items\":[{\"id\":\"868658a1-9a40-4336-aa57-343cc4fdddd2\",\"type\":\"LegendItem\"}],\"location\":\"top_left\",\"plot\":{\"id\":\"e542bf7b-283c-4457-88a1-f49ec2c26534\",\"subtype\":\"Chart\",\"type\":\"Plot\"}},\"id\":\"ceaccdd9-384e-4dc2-b979-2c4a402cfd65\",\"type\":\"Legend\"},{\"attributes\":{\"plot\":null,\"text\":null},\"id\":\"cd92ac8d-ed1f-415a-bcd7-dc50cae3281c\",\"type\":\"Title\"},{\"attributes\":{},\"id\":\"86783b97-9ddf-4eab-8fd9-2106ae90f62e\",\"type\":\"BasicTicker\"},{\"attributes\":{\"plot\":{\"id\":\"e542bf7b-283c-4457-88a1-f49ec2c26534\",\"subtype\":\"Chart\",\"type\":\"Plot\"}},\"id\":\"815671db-b78a-4757-b5cf-18d8069df412\",\"type\":\"HelpTool\"},{\"attributes\":{\"axis_label\":\"value\",\"formatter\":{\"id\":\"d678f3b8-89d2-4cdc-b161-408f7bc4ed73\",\"type\":\"BasicTickFormatter\"},\"plot\":{\"id\":\"e542bf7b-283c-4457-88a1-f49ec2c26534\",\"subtype\":\"Chart\",\"type\":\"Plot\"},\"ticker\":{\"id\":\"86783b97-9ddf-4eab-8fd9-2106ae90f62e\",\"type\":\"BasicTicker\"}},\"id\":\"0204c37c-9c58-45fa-a528-c8e36df0b22d\",\"type\":\"LinearAxis\"},{\"attributes\":{\"plot\":{\"id\":\"e542bf7b-283c-4457-88a1-f49ec2c26534\",\"subtype\":\"Chart\",\"type\":\"Plot\"}},\"id\":\"86b38c9e-485f-41e2-b93c-64cca6d02024\",\"type\":\"PanTool\"},{\"attributes\":{\"dimension\":1,\"plot\":{\"id\":\"e542bf7b-283c-4457-88a1-f49ec2c26534\",\"subtype\":\"Chart\",\"type\":\"Plot\"},\"ticker\":{\"id\":\"86783b97-9ddf-4eab-8fd9-2106ae90f62e\",\"type\":\"BasicTicker\"}},\"id\":\"6ee4d36c-a208-4c2f-873a-99f51ca1d7aa\",\"type\":\"Grid\"},{\"attributes\":{\"plot\":{\"id\":\"e542bf7b-283c-4457-88a1-f49ec2c26534\",\"subtype\":\"Chart\",\"type\":\"Plot\"}},\"id\":\"437e63f4-382f-4158-bd8d-c926ff67589d\",\"type\":\"WheelZoomTool\"},{\"attributes\":{\"below\":[{\"id\":\"345fa38d-a046-4f21-b454-b0c235967bc8\",\"type\":\"LinearAxis\"}],\"css_classes\":null,\"left\":[{\"id\":\"0204c37c-9c58-45fa-a528-c8e36df0b22d\",\"type\":\"LinearAxis\"}],\"renderers\":[{\"id\":\"a7d7b02d-1bd3-425c-a1b0-990b39bf55d7\",\"type\":\"BoxAnnotation\"},{\"id\":\"467d628d-8ff6-458e-b242-b1350a169730\",\"type\":\"GlyphRenderer\"},{\"id\":\"ceaccdd9-384e-4dc2-b979-2c4a402cfd65\",\"type\":\"Legend\"},{\"id\":\"345fa38d-a046-4f21-b454-b0c235967bc8\",\"type\":\"LinearAxis\"},{\"id\":\"0204c37c-9c58-45fa-a528-c8e36df0b22d\",\"type\":\"LinearAxis\"},{\"id\":\"bd983447-9641-41b5-a19a-4469ae2235fa\",\"type\":\"Grid\"},{\"id\":\"6ee4d36c-a208-4c2f-873a-99f51ca1d7aa\",\"type\":\"Grid\"}],\"title\":{\"id\":\"cd92ac8d-ed1f-415a-bcd7-dc50cae3281c\",\"type\":\"Title\"},\"tool_events\":{\"id\":\"6909ad7c-fe39-46f9-b99d-4a8552566e16\",\"type\":\"ToolEvents\"},\"toolbar\":{\"id\":\"2321bbef-cc33-41c7-8c59-fc3c0d25a74e\",\"type\":\"Toolbar\"},\"x_mapper_type\":\"auto\",\"x_range\":{\"id\":\"dcdae21b-2cf1-45d4-9761-96581d0f06ac\",\"type\":\"Range1d\"},\"y_mapper_type\":\"auto\",\"y_range\":{\"id\":\"71d06d8c-0958-4c83-a660-ef641fdf79f3\",\"type\":\"Range1d\"}},\"id\":\"e542bf7b-283c-4457-88a1-f49ec2c26534\",\"subtype\":\"Chart\",\"type\":\"Plot\"},{\"attributes\":{},\"id\":\"f20ca501-7f08-41e4-be57-e2089fa97e77\",\"type\":\"BasicTickFormatter\"},{\"attributes\":{\"label\":{\"value\":\"a\"},\"renderers\":[{\"id\":\"467d628d-8ff6-458e-b242-b1350a169730\",\"type\":\"GlyphRenderer\"}]},\"id\":\"868658a1-9a40-4336-aa57-343cc4fdddd2\",\"type\":\"LegendItem\"},{\"attributes\":{},\"id\":\"6909ad7c-fe39-46f9-b99d-4a8552566e16\",\"type\":\"ToolEvents\"},{\"attributes\":{\"plot\":{\"id\":\"e542bf7b-283c-4457-88a1-f49ec2c26534\",\"subtype\":\"Chart\",\"type\":\"Plot\"}},\"id\":\"7fd4949e-e844-423d-b328-dd8de796ce1e\",\"type\":\"ResetTool\"},{\"attributes\":{\"plot\":{\"id\":\"e542bf7b-283c-4457-88a1-f49ec2c26534\",\"subtype\":\"Chart\",\"type\":\"Plot\"},\"ticker\":{\"id\":\"53d85b8a-5dff-4360-bf2e-44267a8d159f\",\"type\":\"BasicTicker\"}},\"id\":\"bd983447-9641-41b5-a19a-4469ae2235fa\",\"type\":\"Grid\"},{\"attributes\":{\"callback\":null,\"end\":30.8,\"start\":-2.8000000000000003},\"id\":\"71d06d8c-0958-4c83-a660-ef641fdf79f3\",\"type\":\"Range1d\"},{\"attributes\":{\"axis_label\":\"index\",\"formatter\":{\"id\":\"f20ca501-7f08-41e4-be57-e2089fa97e77\",\"type\":\"BasicTickFormatter\"},\"plot\":{\"id\":\"e542bf7b-283c-4457-88a1-f49ec2c26534\",\"subtype\":\"Chart\",\"type\":\"Plot\"},\"ticker\":{\"id\":\"53d85b8a-5dff-4360-bf2e-44267a8d159f\",\"type\":\"BasicTicker\"}},\"id\":\"345fa38d-a046-4f21-b454-b0c235967bc8\",\"type\":\"LinearAxis\"},{\"attributes\":{\"data_source\":{\"id\":\"10a51753-84d1-4bf3-b2cf-e6fbfc11c9e6\",\"type\":\"ColumnDataSource\"},\"glyph\":{\"id\":\"e630a186-8404-413d-b26f-0be5d49b71d0\",\"type\":\"Line\"},\"hover_glyph\":null,\"muted_glyph\":null},\"id\":\"467d628d-8ff6-458e-b242-b1350a169730\",\"type\":\"GlyphRenderer\"},{\"attributes\":{\"callback\":null,\"end\":79.2,\"start\":-7.2},\"id\":\"dcdae21b-2cf1-45d4-9761-96581d0f06ac\",\"type\":\"Range1d\"},{\"attributes\":{\"line_color\":{\"value\":\"#f22c40\"},\"line_width\":{\"value\":2},\"x\":{\"field\":\"x_values\"},\"y\":{\"field\":\"y_values\"}},\"id\":\"e630a186-8404-413d-b26f-0be5d49b71d0\",\"type\":\"Line\"},{\"attributes\":{\"active_drag\":\"auto\",\"active_scroll\":\"auto\",\"active_tap\":\"auto\",\"tools\":[{\"id\":\"86b38c9e-485f-41e2-b93c-64cca6d02024\",\"type\":\"PanTool\"},{\"id\":\"437e63f4-382f-4158-bd8d-c926ff67589d\",\"type\":\"WheelZoomTool\"},{\"id\":\"344e0e28-9f7c-4341-9a95-b87357914723\",\"type\":\"BoxZoomTool\"},{\"id\":\"e0cd6e62-8f69-4ddb-a097-1c6e1ebd0aae\",\"type\":\"SaveTool\"},{\"id\":\"7fd4949e-e844-423d-b328-dd8de796ce1e\",\"type\":\"ResetTool\"},{\"id\":\"815671db-b78a-4757-b5cf-18d8069df412\",\"type\":\"HelpTool\"}]},\"id\":\"2321bbef-cc33-41c7-8c59-fc3c0d25a74e\",\"type\":\"Toolbar\"},{\"attributes\":{\"callback\":null,\"column_names\":[\"y_values\",\"x_values\"],\"data\":{\"chart_index\":[{\"series\":\"a\"},{\"series\":\"a\"},{\"series\":\"a\"},{\"series\":\"a\"},{\"series\":\"a\"},{\"series\":\"a\"},{\"series\":\"a\"},{\"series\":\"a\"},{\"series\":\"a\"},{\"series\":\"a\"},{\"series\":\"a\"},{\"series\":\"a\"},{\"series\":\"a\"},{\"series\":\"a\"},{\"series\":\"a\"},{\"series\":\"a\"},{\"series\":\"a\"},{\"series\":\"a\"},{\"series\":\"a\"},{\"series\":\"a\"},{\"series\":\"a\"},{\"series\":\"a\"},{\"series\":\"a\"},{\"series\":\"a\"},{\"series\":\"a\"},{\"series\":\"a\"},{\"series\":\"a\"},{\"series\":\"a\"},{\"series\":\"a\"},{\"series\":\"a\"},{\"series\":\"a\"},{\"series\":\"a\"},{\"series\":\"a\"},{\"series\":\"a\"},{\"series\":\"a\"},{\"series\":\"a\"},{\"series\":\"a\"},{\"series\":\"a\"},{\"series\":\"a\"},{\"series\":\"a\"},{\"series\":\"a\"},{\"series\":\"a\"},{\"series\":\"a\"},{\"series\":\"a\"},{\"series\":\"a\"},{\"series\":\"a\"},{\"series\":\"a\"},{\"series\":\"a\"},{\"series\":\"a\"},{\"series\":\"a\"},{\"series\":\"a\"},{\"series\":\"a\"},{\"series\":\"a\"},{\"series\":\"a\"},{\"series\":\"a\"},{\"series\":\"a\"},{\"series\":\"a\"},{\"series\":\"a\"},{\"series\":\"a\"},{\"series\":\"a\"},{\"series\":\"a\"},{\"series\":\"a\"},{\"series\":\"a\"},{\"series\":\"a\"},{\"series\":\"a\"},{\"series\":\"a\"},{\"series\":\"a\"},{\"series\":\"a\"},{\"series\":\"a\"},{\"series\":\"a\"},{\"series\":\"a\"},{\"series\":\"a\"},{\"series\":\"a\"}],\"series\":[\"a\",\"a\",\"a\",\"a\",\"a\",\"a\",\"a\",\"a\",\"a\",\"a\",\"a\",\"a\",\"a\",\"a\",\"a\",\"a\",\"a\",\"a\",\"a\",\"a\",\"a\",\"a\",\"a\",\"a\",\"a\",\"a\",\"a\",\"a\",\"a\",\"a\",\"a\",\"a\",\"a\",\"a\",\"a\",\"a\",\"a\",\"a\",\"a\",\"a\",\"a\",\"a\",\"a\",\"a\",\"a\",\"a\",\"a\",\"a\",\"a\",\"a\",\"a\",\"a\",\"a\",\"a\",\"a\",\"a\",\"a\",\"a\",\"a\",\"a\",\"a\",\"a\",\"a\",\"a\",\"a\",\"a\",\"a\",\"a\",\"a\",\"a\",\"a\",\"a\",\"a\"],\"x_values\":[0,1,2,3,4,5,6,7,8,9,10,11,12,13,14,15,16,17,18,19,20,21,22,23,24,25,26,27,28,29,30,31,32,33,34,35,36,37,38,39,40,41,42,43,44,45,46,47,48,49,50,51,52,53,54,55,56,57,58,59,60,61,62,63,64,65,66,67,68,69,70,71,72],\"y_values\":[16,14,20,14,21,15,9,11,17,11,19,9,10,13,6,11,13,13,6,13,7,5,10,8,0,2,6,0,2,5,2,0,1,6,6,6,4,2,2,5,3,3,6,6,5,4,2,4,1,2,8,8,16,11,11,13,19,9,12,13,15,17,18,28,23,12,13,11,15,12,8,0,0]}},\"id\":\"10a51753-84d1-4bf3-b2cf-e6fbfc11c9e6\",\"type\":\"ColumnDataSource\"},{\"attributes\":{},\"id\":\"d678f3b8-89d2-4cdc-b161-408f7bc4ed73\",\"type\":\"BasicTickFormatter\"},{\"attributes\":{\"plot\":{\"id\":\"e542bf7b-283c-4457-88a1-f49ec2c26534\",\"subtype\":\"Chart\",\"type\":\"Plot\"}},\"id\":\"e0cd6e62-8f69-4ddb-a097-1c6e1ebd0aae\",\"type\":\"SaveTool\"}],\"root_ids\":[\"e542bf7b-283c-4457-88a1-f49ec2c26534\"]},\"title\":\"Bokeh Application\",\"version\":\"0.12.5\"}};\n",
       "            var render_items = [{\"docid\":\"053ef2be-c079-4da2-a618-d0a7587ea42f\",\"elementid\":\"8394832f-b23e-490b-8264-1099f914a560\",\"modelid\":\"e542bf7b-283c-4457-88a1-f49ec2c26534\"}];\n",
       "            \n",
       "            Bokeh.embed.embed_items(docs_json, render_items);\n",
       "          };\n",
       "          if (document.readyState != \"loading\") fn();\n",
       "          else document.addEventListener(\"DOMContentLoaded\", fn);\n",
       "        })();\n",
       "      },\n",
       "      function(Bokeh) {\n",
       "      }\n",
       "    ];\n",
       "  \n",
       "    function run_inline_js() {\n",
       "      \n",
       "      if ((window.Bokeh !== undefined) || (force === true)) {\n",
       "        for (var i = 0; i < inline_js.length; i++) {\n",
       "          inline_js[i](window.Bokeh);\n",
       "        }if (force === true) {\n",
       "          display_loaded();\n",
       "        }} else if (Date.now() < window._bokeh_timeout) {\n",
       "        setTimeout(run_inline_js, 100);\n",
       "      } else if (!window._bokeh_failed_load) {\n",
       "        console.log(\"Bokeh: BokehJS failed to load within specified timeout.\");\n",
       "        window._bokeh_failed_load = true;\n",
       "      } else if (force !== true) {\n",
       "        var cell = $(document.getElementById(\"8394832f-b23e-490b-8264-1099f914a560\")).parents('.cell').data().cell;\n",
       "        cell.output_area.append_execute_result(NB_LOAD_WARNING)\n",
       "      }\n",
       "  \n",
       "    }\n",
       "  \n",
       "    if (window._bokeh_is_loading === 0) {\n",
       "      console.log(\"Bokeh: BokehJS loaded, going straight to plotting\");\n",
       "      run_inline_js();\n",
       "    } else {\n",
       "      load_libs(js_urls, function() {\n",
       "        console.log(\"Bokeh: BokehJS plotting callback run at\", now());\n",
       "        run_inline_js();\n",
       "      });\n",
       "    }\n",
       "  }(this));\n",
       "</script>"
      ]
     },
     "metadata": {},
     "output_type": "display_data"
    }
   ],
   "source": [
    "#There's a lot of varience, mostly because we don't have enough data to even things out, but \n",
    "#peaks in density can still be seen where we'd expect to see them (rush hour, lunch, etc...)\n",
    "\n",
    "bokeh_density_by_time(northbound, 'host_read_time_x', 'host_read_time_y', timedelta(minutes=20))"
   ]
  },
  {
   "cell_type": "code",
   "execution_count": 25,
   "metadata": {},
   "outputs": [
    {
     "data": {
      "text/html": [
       "\n",
       "\n",
       "    <div class=\"bk-root\">\n",
       "        <div class=\"bk-plotdiv\" id=\"93071653-8429-4a3e-adaf-2490ce34c8b5\"></div>\n",
       "    </div>\n",
       "<script type=\"text/javascript\">\n",
       "  \n",
       "  (function(global) {\n",
       "    function now() {\n",
       "      return new Date();\n",
       "    }\n",
       "  \n",
       "    var force = false;\n",
       "  \n",
       "    if (typeof (window._bokeh_onload_callbacks) === \"undefined\" || force === true) {\n",
       "      window._bokeh_onload_callbacks = [];\n",
       "      window._bokeh_is_loading = undefined;\n",
       "    }\n",
       "  \n",
       "  \n",
       "    \n",
       "    if (typeof (window._bokeh_timeout) === \"undefined\" || force === true) {\n",
       "      window._bokeh_timeout = Date.now() + 0;\n",
       "      window._bokeh_failed_load = false;\n",
       "    }\n",
       "  \n",
       "    var NB_LOAD_WARNING = {'data': {'text/html':\n",
       "       \"<div style='background-color: #fdd'>\\n\"+\n",
       "       \"<p>\\n\"+\n",
       "       \"BokehJS does not appear to have successfully loaded. If loading BokehJS from CDN, this \\n\"+\n",
       "       \"may be due to a slow or bad network connection. Possible fixes:\\n\"+\n",
       "       \"</p>\\n\"+\n",
       "       \"<ul>\\n\"+\n",
       "       \"<li>re-rerun `output_notebook()` to attempt to load from CDN again, or</li>\\n\"+\n",
       "       \"<li>use INLINE resources instead, as so:</li>\\n\"+\n",
       "       \"</ul>\\n\"+\n",
       "       \"<code>\\n\"+\n",
       "       \"from bokeh.resources import INLINE\\n\"+\n",
       "       \"output_notebook(resources=INLINE)\\n\"+\n",
       "       \"</code>\\n\"+\n",
       "       \"</div>\"}};\n",
       "  \n",
       "    function display_loaded() {\n",
       "      if (window.Bokeh !== undefined) {\n",
       "        var el = document.getElementById(\"93071653-8429-4a3e-adaf-2490ce34c8b5\");\n",
       "        el.textContent = \"BokehJS \" + Bokeh.version + \" successfully loaded.\";\n",
       "      } else if (Date.now() < window._bokeh_timeout) {\n",
       "        setTimeout(display_loaded, 100)\n",
       "      }\n",
       "    }\n",
       "  \n",
       "    function run_callbacks() {\n",
       "      window._bokeh_onload_callbacks.forEach(function(callback) { callback() });\n",
       "      delete window._bokeh_onload_callbacks\n",
       "      console.info(\"Bokeh: all callbacks have finished\");\n",
       "    }\n",
       "  \n",
       "    function load_libs(js_urls, callback) {\n",
       "      window._bokeh_onload_callbacks.push(callback);\n",
       "      if (window._bokeh_is_loading > 0) {\n",
       "        console.log(\"Bokeh: BokehJS is being loaded, scheduling callback at\", now());\n",
       "        return null;\n",
       "      }\n",
       "      if (js_urls == null || js_urls.length === 0) {\n",
       "        run_callbacks();\n",
       "        return null;\n",
       "      }\n",
       "      console.log(\"Bokeh: BokehJS not loaded, scheduling load and callback at\", now());\n",
       "      window._bokeh_is_loading = js_urls.length;\n",
       "      for (var i = 0; i < js_urls.length; i++) {\n",
       "        var url = js_urls[i];\n",
       "        var s = document.createElement('script');\n",
       "        s.src = url;\n",
       "        s.async = false;\n",
       "        s.onreadystatechange = s.onload = function() {\n",
       "          window._bokeh_is_loading--;\n",
       "          if (window._bokeh_is_loading === 0) {\n",
       "            console.log(\"Bokeh: all BokehJS libraries loaded\");\n",
       "            run_callbacks()\n",
       "          }\n",
       "        };\n",
       "        s.onerror = function() {\n",
       "          console.warn(\"failed to load library \" + url);\n",
       "        };\n",
       "        console.log(\"Bokeh: injecting script tag for BokehJS library: \", url);\n",
       "        document.getElementsByTagName(\"head\")[0].appendChild(s);\n",
       "      }\n",
       "    };var element = document.getElementById(\"93071653-8429-4a3e-adaf-2490ce34c8b5\");\n",
       "    if (element == null) {\n",
       "      console.log(\"Bokeh: ERROR: autoload.js configured with elementid '93071653-8429-4a3e-adaf-2490ce34c8b5' but no matching script tag was found. \")\n",
       "      return false;\n",
       "    }\n",
       "  \n",
       "    var js_urls = [];\n",
       "  \n",
       "    var inline_js = [\n",
       "      function(Bokeh) {\n",
       "        (function() {\n",
       "          var fn = function() {\n",
       "            var docs_json = {\"b0ebf55c-7a58-407a-b1e2-d2786bba7758\":{\"roots\":{\"references\":[{\"attributes\":{\"overlay\":{\"id\":\"f59454a7-c4f5-4b38-8a1a-eff58cd7a291\",\"type\":\"BoxAnnotation\"},\"plot\":{\"id\":\"2b6f8bb1-de70-4076-9115-d71278ce7176\",\"subtype\":\"Chart\",\"type\":\"Plot\"}},\"id\":\"322d4c84-2050-4418-af83-78abf01d0c63\",\"type\":\"BoxZoomTool\"},{\"attributes\":{\"line_color\":{\"value\":\"#f22c40\"},\"line_width\":{\"value\":2},\"x\":{\"field\":\"x_values\"},\"y\":{\"field\":\"y_values\"}},\"id\":\"3274feb4-f403-4573-9a52-444699600382\",\"type\":\"Line\"},{\"attributes\":{\"bottom_units\":\"screen\",\"fill_alpha\":{\"value\":0.5},\"fill_color\":{\"value\":\"lightgrey\"},\"left_units\":\"screen\",\"level\":\"overlay\",\"line_alpha\":{\"value\":1.0},\"line_color\":{\"value\":\"black\"},\"line_dash\":[4,4],\"line_width\":{\"value\":2},\"plot\":null,\"render_mode\":\"css\",\"right_units\":\"screen\",\"top_units\":\"screen\"},\"id\":\"f59454a7-c4f5-4b38-8a1a-eff58cd7a291\",\"type\":\"BoxAnnotation\"},{\"attributes\":{\"callback\":null,\"end\":94.6,\"start\":-8.6},\"id\":\"d20f9ae5-343b-43c4-8378-5697adfdca75\",\"type\":\"Range1d\"},{\"attributes\":{},\"id\":\"c5aafd9e-f759-4320-84d2-dfefc379ec20\",\"type\":\"BasicTickFormatter\"},{\"attributes\":{\"axis_label\":\"value\",\"formatter\":{\"id\":\"c5aafd9e-f759-4320-84d2-dfefc379ec20\",\"type\":\"BasicTickFormatter\"},\"plot\":{\"id\":\"2b6f8bb1-de70-4076-9115-d71278ce7176\",\"subtype\":\"Chart\",\"type\":\"Plot\"},\"ticker\":{\"id\":\"902f0de4-743f-4685-b4d2-3573f01ed55a\",\"type\":\"BasicTicker\"}},\"id\":\"1b5b1dc6-96ea-4350-9f97-645ce18f049e\",\"type\":\"LinearAxis\"},{\"attributes\":{\"plot\":{\"id\":\"2b6f8bb1-de70-4076-9115-d71278ce7176\",\"subtype\":\"Chart\",\"type\":\"Plot\"},\"ticker\":{\"id\":\"3b5aa0f0-2996-434d-89a7-b081ad9a99e5\",\"type\":\"BasicTicker\"}},\"id\":\"ab1db7e1-024f-4ca3-90fc-2b7e3bee3b2a\",\"type\":\"Grid\"},{\"attributes\":{\"plot\":{\"id\":\"2b6f8bb1-de70-4076-9115-d71278ce7176\",\"subtype\":\"Chart\",\"type\":\"Plot\"}},\"id\":\"77dc0e75-814a-4777-a44f-ca850819c709\",\"type\":\"ResetTool\"},{\"attributes\":{\"active_drag\":\"auto\",\"active_scroll\":\"auto\",\"active_tap\":\"auto\",\"tools\":[{\"id\":\"1a4df098-7e81-49a7-96ba-b448c7cef3b6\",\"type\":\"PanTool\"},{\"id\":\"6a00959b-5ccf-437a-9d26-eb58c2e4f465\",\"type\":\"WheelZoomTool\"},{\"id\":\"322d4c84-2050-4418-af83-78abf01d0c63\",\"type\":\"BoxZoomTool\"},{\"id\":\"7eb2d2a9-ccfb-4d16-a8ef-0f7b70dbb299\",\"type\":\"SaveTool\"},{\"id\":\"77dc0e75-814a-4777-a44f-ca850819c709\",\"type\":\"ResetTool\"},{\"id\":\"e66a2f89-ab01-49cb-bca9-b12bf14f6996\",\"type\":\"HelpTool\"}]},\"id\":\"6b83468a-1752-4b81-aaae-ad52894cd544\",\"type\":\"Toolbar\"},{\"attributes\":{\"callback\":null,\"column_names\":[\"y_values\",\"x_values\"],\"data\":{\"chart_index\":[{\"series\":\"a\"},{\"series\":\"a\"},{\"series\":\"a\"},{\"series\":\"a\"},{\"series\":\"a\"},{\"series\":\"a\"},{\"series\":\"a\"},{\"series\":\"a\"},{\"series\":\"a\"},{\"series\":\"a\"},{\"series\":\"a\"},{\"series\":\"a\"},{\"series\":\"a\"},{\"series\":\"a\"},{\"series\":\"a\"},{\"series\":\"a\"},{\"series\":\"a\"},{\"series\":\"a\"},{\"series\":\"a\"},{\"series\":\"a\"},{\"series\":\"a\"},{\"series\":\"a\"},{\"series\":\"a\"},{\"series\":\"a\"},{\"series\":\"a\"},{\"series\":\"a\"},{\"series\":\"a\"},{\"series\":\"a\"},{\"series\":\"a\"},{\"series\":\"a\"},{\"series\":\"a\"},{\"series\":\"a\"},{\"series\":\"a\"},{\"series\":\"a\"},{\"series\":\"a\"},{\"series\":\"a\"},{\"series\":\"a\"},{\"series\":\"a\"},{\"series\":\"a\"},{\"series\":\"a\"},{\"series\":\"a\"},{\"series\":\"a\"},{\"series\":\"a\"},{\"series\":\"a\"},{\"series\":\"a\"},{\"series\":\"a\"},{\"series\":\"a\"},{\"series\":\"a\"},{\"series\":\"a\"},{\"series\":\"a\"},{\"series\":\"a\"},{\"series\":\"a\"},{\"series\":\"a\"},{\"series\":\"a\"},{\"series\":\"a\"},{\"series\":\"a\"},{\"series\":\"a\"},{\"series\":\"a\"},{\"series\":\"a\"},{\"series\":\"a\"},{\"series\":\"a\"},{\"series\":\"a\"},{\"series\":\"a\"},{\"series\":\"a\"},{\"series\":\"a\"},{\"series\":\"a\"},{\"series\":\"a\"},{\"series\":\"a\"},{\"series\":\"a\"},{\"series\":\"a\"},{\"series\":\"a\"},{\"series\":\"a\"},{\"series\":\"a\"}],\"series\":[\"a\",\"a\",\"a\",\"a\",\"a\",\"a\",\"a\",\"a\",\"a\",\"a\",\"a\",\"a\",\"a\",\"a\",\"a\",\"a\",\"a\",\"a\",\"a\",\"a\",\"a\",\"a\",\"a\",\"a\",\"a\",\"a\",\"a\",\"a\",\"a\",\"a\",\"a\",\"a\",\"a\",\"a\",\"a\",\"a\",\"a\",\"a\",\"a\",\"a\",\"a\",\"a\",\"a\",\"a\",\"a\",\"a\",\"a\",\"a\",\"a\",\"a\",\"a\",\"a\",\"a\",\"a\",\"a\",\"a\",\"a\",\"a\",\"a\",\"a\",\"a\",\"a\",\"a\",\"a\",\"a\",\"a\",\"a\",\"a\",\"a\",\"a\",\"a\",\"a\",\"a\"],\"x_values\":[0,1,2,3,4,5,6,7,8,9,10,11,12,13,14,15,16,17,18,19,20,21,22,23,24,25,26,27,28,29,30,31,32,33,34,35,36,37,38,39,40,41,42,43,44,45,46,47,48,49,50,51,52,53,54,55,56,57,58,59,60,61,62,63,64,65,66,67,68,69,70,71,72],\"y_values\":[17,32,34,35,32,43,31,38,32,40,44,34,28,42,39,30,33,48,41,33,20,19,27,33,28,13,13,11,18,12,17,22,21,6,7,13,17,9,16,7,6,14,6,8,7,13,7,11,10,19,23,25,9,40,45,31,42,44,42,37,40,34,49,53,55,52,86,63,61,72,59,71,0]}},\"id\":\"8ed5fc62-7c4e-4985-9de7-29882cf47ad1\",\"type\":\"ColumnDataSource\"},{\"attributes\":{\"plot\":{\"id\":\"2b6f8bb1-de70-4076-9115-d71278ce7176\",\"subtype\":\"Chart\",\"type\":\"Plot\"}},\"id\":\"e66a2f89-ab01-49cb-bca9-b12bf14f6996\",\"type\":\"HelpTool\"},{\"attributes\":{},\"id\":\"ebedcd72-2c94-409b-9b55-fc3d1d209a81\",\"type\":\"ToolEvents\"},{\"attributes\":{\"plot\":{\"id\":\"2b6f8bb1-de70-4076-9115-d71278ce7176\",\"subtype\":\"Chart\",\"type\":\"Plot\"}},\"id\":\"1a4df098-7e81-49a7-96ba-b448c7cef3b6\",\"type\":\"PanTool\"},{\"attributes\":{\"below\":[{\"id\":\"c9870d05-9a7a-4d8e-8613-912d47c2d8e6\",\"type\":\"LinearAxis\"}],\"css_classes\":null,\"left\":[{\"id\":\"1b5b1dc6-96ea-4350-9f97-645ce18f049e\",\"type\":\"LinearAxis\"}],\"renderers\":[{\"id\":\"f59454a7-c4f5-4b38-8a1a-eff58cd7a291\",\"type\":\"BoxAnnotation\"},{\"id\":\"892a2590-af92-4ba4-9631-cfab530dcc19\",\"type\":\"GlyphRenderer\"},{\"id\":\"e8393f82-3276-4d07-a289-7b14cb1028e9\",\"type\":\"Legend\"},{\"id\":\"c9870d05-9a7a-4d8e-8613-912d47c2d8e6\",\"type\":\"LinearAxis\"},{\"id\":\"1b5b1dc6-96ea-4350-9f97-645ce18f049e\",\"type\":\"LinearAxis\"},{\"id\":\"ab1db7e1-024f-4ca3-90fc-2b7e3bee3b2a\",\"type\":\"Grid\"},{\"id\":\"78458d8e-06ad-4c9b-a59b-e645de47853d\",\"type\":\"Grid\"}],\"title\":{\"id\":\"9e94f5f6-36fb-431f-8a10-bd3385b69921\",\"type\":\"Title\"},\"tool_events\":{\"id\":\"ebedcd72-2c94-409b-9b55-fc3d1d209a81\",\"type\":\"ToolEvents\"},\"toolbar\":{\"id\":\"6b83468a-1752-4b81-aaae-ad52894cd544\",\"type\":\"Toolbar\"},\"x_mapper_type\":\"auto\",\"x_range\":{\"id\":\"2b7873b3-8ca6-457e-87b5-9000c9a6f383\",\"type\":\"Range1d\"},\"y_mapper_type\":\"auto\",\"y_range\":{\"id\":\"d20f9ae5-343b-43c4-8378-5697adfdca75\",\"type\":\"Range1d\"}},\"id\":\"2b6f8bb1-de70-4076-9115-d71278ce7176\",\"subtype\":\"Chart\",\"type\":\"Plot\"},{\"attributes\":{\"dimension\":1,\"plot\":{\"id\":\"2b6f8bb1-de70-4076-9115-d71278ce7176\",\"subtype\":\"Chart\",\"type\":\"Plot\"},\"ticker\":{\"id\":\"902f0de4-743f-4685-b4d2-3573f01ed55a\",\"type\":\"BasicTicker\"}},\"id\":\"78458d8e-06ad-4c9b-a59b-e645de47853d\",\"type\":\"Grid\"},{\"attributes\":{\"data_source\":{\"id\":\"8ed5fc62-7c4e-4985-9de7-29882cf47ad1\",\"type\":\"ColumnDataSource\"},\"glyph\":{\"id\":\"3274feb4-f403-4573-9a52-444699600382\",\"type\":\"Line\"},\"hover_glyph\":null,\"muted_glyph\":null},\"id\":\"892a2590-af92-4ba4-9631-cfab530dcc19\",\"type\":\"GlyphRenderer\"},{\"attributes\":{\"label\":{\"value\":\"a\"},\"renderers\":[{\"id\":\"892a2590-af92-4ba4-9631-cfab530dcc19\",\"type\":\"GlyphRenderer\"}]},\"id\":\"5efcfd54-a863-438e-8208-ef85c0f2aa8a\",\"type\":\"LegendItem\"},{\"attributes\":{\"plot\":{\"id\":\"2b6f8bb1-de70-4076-9115-d71278ce7176\",\"subtype\":\"Chart\",\"type\":\"Plot\"}},\"id\":\"6a00959b-5ccf-437a-9d26-eb58c2e4f465\",\"type\":\"WheelZoomTool\"},{\"attributes\":{\"items\":[{\"id\":\"5efcfd54-a863-438e-8208-ef85c0f2aa8a\",\"type\":\"LegendItem\"}],\"location\":\"top_left\",\"plot\":{\"id\":\"2b6f8bb1-de70-4076-9115-d71278ce7176\",\"subtype\":\"Chart\",\"type\":\"Plot\"}},\"id\":\"e8393f82-3276-4d07-a289-7b14cb1028e9\",\"type\":\"Legend\"},{\"attributes\":{\"plot\":{\"id\":\"2b6f8bb1-de70-4076-9115-d71278ce7176\",\"subtype\":\"Chart\",\"type\":\"Plot\"}},\"id\":\"7eb2d2a9-ccfb-4d16-a8ef-0f7b70dbb299\",\"type\":\"SaveTool\"},{\"attributes\":{},\"id\":\"3b5aa0f0-2996-434d-89a7-b081ad9a99e5\",\"type\":\"BasicTicker\"},{\"attributes\":{\"plot\":null,\"text\":null},\"id\":\"9e94f5f6-36fb-431f-8a10-bd3385b69921\",\"type\":\"Title\"},{\"attributes\":{},\"id\":\"e68bdcbc-7130-4354-86ab-3055c8d254ef\",\"type\":\"BasicTickFormatter\"},{\"attributes\":{},\"id\":\"902f0de4-743f-4685-b4d2-3573f01ed55a\",\"type\":\"BasicTicker\"},{\"attributes\":{\"callback\":null,\"end\":79.2,\"start\":-7.2},\"id\":\"2b7873b3-8ca6-457e-87b5-9000c9a6f383\",\"type\":\"Range1d\"},{\"attributes\":{\"axis_label\":\"index\",\"formatter\":{\"id\":\"e68bdcbc-7130-4354-86ab-3055c8d254ef\",\"type\":\"BasicTickFormatter\"},\"plot\":{\"id\":\"2b6f8bb1-de70-4076-9115-d71278ce7176\",\"subtype\":\"Chart\",\"type\":\"Plot\"},\"ticker\":{\"id\":\"3b5aa0f0-2996-434d-89a7-b081ad9a99e5\",\"type\":\"BasicTicker\"}},\"id\":\"c9870d05-9a7a-4d8e-8613-912d47c2d8e6\",\"type\":\"LinearAxis\"}],\"root_ids\":[\"2b6f8bb1-de70-4076-9115-d71278ce7176\"]},\"title\":\"Bokeh Application\",\"version\":\"0.12.5\"}};\n",
       "            var render_items = [{\"docid\":\"b0ebf55c-7a58-407a-b1e2-d2786bba7758\",\"elementid\":\"93071653-8429-4a3e-adaf-2490ce34c8b5\",\"modelid\":\"2b6f8bb1-de70-4076-9115-d71278ce7176\"}];\n",
       "            \n",
       "            Bokeh.embed.embed_items(docs_json, render_items);\n",
       "          };\n",
       "          if (document.readyState != \"loading\") fn();\n",
       "          else document.addEventListener(\"DOMContentLoaded\", fn);\n",
       "        })();\n",
       "      },\n",
       "      function(Bokeh) {\n",
       "      }\n",
       "    ];\n",
       "  \n",
       "    function run_inline_js() {\n",
       "      \n",
       "      if ((window.Bokeh !== undefined) || (force === true)) {\n",
       "        for (var i = 0; i < inline_js.length; i++) {\n",
       "          inline_js[i](window.Bokeh);\n",
       "        }if (force === true) {\n",
       "          display_loaded();\n",
       "        }} else if (Date.now() < window._bokeh_timeout) {\n",
       "        setTimeout(run_inline_js, 100);\n",
       "      } else if (!window._bokeh_failed_load) {\n",
       "        console.log(\"Bokeh: BokehJS failed to load within specified timeout.\");\n",
       "        window._bokeh_failed_load = true;\n",
       "      } else if (force !== true) {\n",
       "        var cell = $(document.getElementById(\"93071653-8429-4a3e-adaf-2490ce34c8b5\")).parents('.cell').data().cell;\n",
       "        cell.output_area.append_execute_result(NB_LOAD_WARNING)\n",
       "      }\n",
       "  \n",
       "    }\n",
       "  \n",
       "    if (window._bokeh_is_loading === 0) {\n",
       "      console.log(\"Bokeh: BokehJS loaded, going straight to plotting\");\n",
       "      run_inline_js();\n",
       "    } else {\n",
       "      load_libs(js_urls, function() {\n",
       "        console.log(\"Bokeh: BokehJS plotting callback run at\", now());\n",
       "        run_inline_js();\n",
       "      });\n",
       "    }\n",
       "  }(this));\n",
       "</script>"
      ]
     },
     "metadata": {},
     "output_type": "display_data"
    }
   ],
   "source": [
    "#Again, there's a lot of varience, but we still see nice peaks on the graph during\n",
    "#peak travel times\n",
    "\n",
    "bokeh_throughput_by_time(northbound, 'host_read_time_y', timedelta(minutes=20))"
   ]
  },
  {
   "cell_type": "code",
   "execution_count": 65,
   "metadata": {},
   "outputs": [
    {
     "name": "stdout",
     "output_type": "stream",
     "text": [
      "(83, 110, 101, 118, 109, 111, 94, 79, 54, 41, 60, 26, 42, 27, 21, 31, 52, 74, 118, 123, 123, 160, 210, 202) (39, 39, 26, 26, 18, 24, 22, 14, 8, 6, 2, 15, 4, 8, 14, 7, 9, 31, 37, 25, 37, 51, 26, 0)\n"
     ]
    },
    {
     "data": {
      "image/png": "[encoded data removed]",
      "text/plain": [
       "<matplotlib.figure.Figure at 0x7f4fda857d30>"
      ]
     },
     "metadata": {},
     "output_type": "display_data"
    }
   ],
   "source": [
    "#Austin traffic is crazy.\n",
    "#Clear evidence to phase transitions can be seen.\n",
    "#This is (mostly) what we expected.\n",
    "flow_by_density(northbound, 'host_read_time_x', 'host_read_time_y', timedelta(minutes=60))"
   ]
  },
  {
   "cell_type": "code",
   "execution_count": 46,
   "metadata": {
    "collapsed": true
   },
   "outputs": [],
   "source": [
    "#plot density vs time\n",
    "def bokeh_density_by_time(dataframe, start_column, end_column, delta):\n",
    "    dataframe = dataframe.sort_values(by=start_column)\n",
    "    x_list = dataframe[start_column].tolist()\n",
    "    date_buckets = []\n",
    "    for d in date_range(x_list[0], x_list[-1], delta):\n",
    "        date_buckets.append(d)\n",
    "        \n",
    "    counts = []\n",
    "    for bucket in date_buckets:\n",
    "        gtlb = dataframe[dataframe[start_column] >= bucket[0]]\n",
    "        gtlb = gtlb[gtlb[start_column] < bucket[1]]\n",
    "        ltub = gtlb[gtlb[end_column] > bucket[1]]\n",
    "        counts.append(len(ltub))\n",
    "        \n",
    "    #plt.plot([b[0] for b in date_buckets], counts)\n",
    "    line = Line(counts)\n",
    "    show(line)\n",
    "    \n",
    "#plot throughput (flow rate) vs time\n",
    "def bokeh_throughput_by_time(dataframe, exit_column, delta):\n",
    "    #make sure the dataframe is sorted\n",
    "    dataframe = dataframe.sort_values(by=exit_column)\n",
    "    #turn the series into a list, easier to work with\n",
    "    x_list = dataframe[exit_column].tolist()\n",
    "    #create the buckets in even intervals during the time frame\n",
    "    date_buckets = []\n",
    "    for d in date_range(x_list[0], x_list[-1], delta):\n",
    "        date_buckets.append(d)\n",
    "        \n",
    "    #count the events we need to measure\n",
    "    counts = []\n",
    "    for bucket in date_buckets:\n",
    "        #get events after the start of the bucket\n",
    "        gtlb = dataframe[dataframe[exit_column] >= bucket[0]]\n",
    "        #get events before end of bucket\n",
    "        ltub = gtlb[gtlb[exit_column] < bucket[1]]\n",
    "        \n",
    "        counts.append(len(ltub))\n",
    "        \n",
    "   #plt.plot([b[0] for b in date_buckets], counts)\n",
    "    line = Line(counts)\n",
    "    show(line)\n",
    "    \n",
    "def bokeh_flow_by_density(dataframe, start_column, exit_column, delta):\n",
    "    #sort\n",
    "    dataframe = dataframe.sort_values(by=exit_column)\n",
    "    #listify the series\n",
    "    x_list = dataframe[exit_column].tolist()\n",
    "    #bucket the series\n",
    "    date_buckets = []\n",
    "    for d in date_range(x_list[0], x_list[-1], delta):\n",
    "        date_buckets.append(d)\n",
    "        \n",
    "    #get counts for throughput\n",
    "    throughput_counts = []\n",
    "    for bucket in date_buckets:\n",
    "        #get events after the start of the bucket\n",
    "        gtlb = dataframe[dataframe[exit_column] >= bucket[0]]\n",
    "        #get events before end of bucket\n",
    "        ltub = gtlb[gtlb[exit_column] < bucket[1]]\n",
    "        throughput_counts.append(len(ltub))\n",
    "        \n",
    "    #get counts for density\n",
    "    density_counts = []\n",
    "    for bucket in date_buckets:\n",
    "        gtlb = dataframe[dataframe[start_column] >= bucket[0]]\n",
    "        gtlb = gtlb[gtlb[start_column] < bucket[1]]\n",
    "        ltub = gtlb[gtlb[exit_column] > bucket[1]]\n",
    "        density_counts.append(len(ltub))\n",
    "        \n",
    "    fbd_points = [(throughput_counts[i], density_counts[i]) for i in range(len(date_buckets))]\n",
    "    #print(*zip(*fbd_points))\n",
    "    #plt.plot(*zip(*fbd_points))\n",
    "    print(len(throughput_counts))\n",
    "    print(len(density_counts))\n",
    "    line = p.scatter(throughput_counts, density_counts)\n",
    "    show(line)"
   ]
  }
 ],
 "metadata": {
  "kernelspec": {
   "display_name": "Python 3",
   "language": "python",
   "name": "python3"
  },
  "language_info": {
   "codemirror_mode": {
    "name": "ipython",
    "version": 3
   },
   "file_extension": ".py",
   "mimetype": "text/x-python",
   "name": "python",
   "nbconvert_exporter": "python",
   "pygments_lexer": "ipython3",
   "version": "3.4.3"
  }
 },
 "nbformat": 4,
 "nbformat_minor": 2
}
